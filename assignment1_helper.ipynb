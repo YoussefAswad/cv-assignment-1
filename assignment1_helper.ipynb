{
  "nbformat": 4,
  "nbformat_minor": 0,
  "metadata": {
    "colab": {
      "provenance": [],
      "collapsed_sections": []
    },
    "kernelspec": {
      "name": "python3",
      "display_name": "Python 3"
    },
    "language_info": {
      "name": "python"
    }
  },
  "cells": [
    {
      "cell_type": "markdown",
      "source": [
        "# **- Starter Code**"
      ],
      "metadata": {
        "id": "i4caviAJVnO2"
      }
    },
    {
      "cell_type": "code",
      "execution_count": null,
      "metadata": {
        "id": "t1zbe5C1Vhx6"
      },
      "outputs": [],
      "source": [
        "#Starter Code\n",
        "import matplotlib.pyplot as plt\n",
        "from PIL import Image\n",
        "import matplotlib "
      ]
    },
    {
      "cell_type": "markdown",
      "source": [
        "# **- Given Functions**"
      ],
      "metadata": {
        "id": "0iL7wAuPX_4N"
      }
    },
    {
      "cell_type": "code",
      "source": [
        "#Function 1: Given an image, returns the image and it's squared version in array format\n",
        "def toArrayAndSquare(im):\n",
        "  img = [[0 for x in range(im.size[0])] for y in range(im.size[1])]\n",
        "  sqr = [[0 for x in range(im.size[0])] for y in range(im.size[1])]\n",
        "  for i in range (0,im.size[0]):\n",
        "    for j in range (0,im.size[1]):\n",
        "      img[j][i] = im.getpixel((i,j))\n",
        "      sqr[j][i] = img[j][i] ** 2\n",
        "  return img,sqr\n",
        "\n",
        "#Function 2: Given an image, applies a certain threshold\n",
        "def applyThreshold (im, th):\n",
        "  res = [[0 for x in range(len(im[0]))] for y in range(len(im))]\n",
        "  for i in range (0,len(im)):\n",
        "    for j in range (0,len(im[0])):\n",
        "      if(im[i][j]<th):\n",
        "        res[i][j] = 0\n",
        "      else:\n",
        "        res[i][j] = 255\n",
        "  return res"
      ],
      "metadata": {
        "id": "PyPe_kkrX-9_"
      },
      "execution_count": null,
      "outputs": []
    },
    {
      "cell_type": "markdown",
      "source": [
        "# **Plotting 6 images in a 3x2 bounding box in gray-scale mode**"
      ],
      "metadata": {
        "id": "j5W_QDHNY_vb"
      }
    },
    {
      "cell_type": "code",
      "source": [
        "\n",
        "#plt has to be imported, see the previous sections\n",
        "plt.subplots(nrows=3, ncols=2, figsize=(25, 25))\n",
        "\n",
        "plt.subplot(3,2,1)\n",
        "plt.imshow(image1,  cmap = 'gray')\n",
        "\n",
        "plt.subplot(3,2,2)\n",
        "plt.imshow(image2,  cmap = 'gray')\n",
        "\n",
        "plt.subplot(3,2,3)\n",
        "plt.imshow(image3,  cmap = 'gray')\n",
        "\n",
        "plt.subplot(3,2,4)\n",
        "plt.imshow(image4,  cmap = 'gray')\n",
        "\n",
        "plt.subplot(3,2,5)\n",
        "plt.imshow(image5,  cmap = 'gray')\n",
        "\n",
        "plt.subplot(3,2,6)\n",
        "plt.imshow(image6,  cmap = 'gray')"
      ],
      "metadata": {
        "id": "agYonWftZFMl"
      },
      "execution_count": null,
      "outputs": []
    }
  ]
}